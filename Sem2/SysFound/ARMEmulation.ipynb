{
 "cells": [
  {
   "cell_type": "markdown",
   "id": "8806b065",
   "metadata": {},
   "source": [
    "[08/03/2022]\n",
    "1. Arm Emulation\n",
    "    - Emulation : A software that can imitate different architecture.\n",
    "    - QUMU, [x86 emulation in browser](https://bellard.org/jslinux/)\n",
    "    - objdump -D \\<filename>.o (Looking at the instruction value), eg. 0xe080 0001 (1110 0000 1000 0000 ... 0001)\n",
    "    - <img src=\"images/dataproc1.png\" align=\"center\" width=\"50%\" height=\"50%\"/>\n",
    "    - <img src=\"images/instrctn3.png\" align=\"center\" width=\"50%\" height=\"50%\"/>\n",
    "    - `DP bits` to understand which instruction it is!(Generally set of constraint bits), **For understanding which instruction it is move from more constraint to less contraint instruction**\n",
    "    - gcc -o \\<exec> \\<cpgm>.c \\<assembly>.s (To link assembly to C while executing), **ref analyze.c**\n",
    "    \n",
    "2. Arm state:\n",
    "    - <img src=\"images/armstate.png\" align=\"center\" width=\"50%\" height=\"50%\"/>\n",
    "    - Declaring a struct to handle the state. **ref armemu.c**, armemu_init() -> int armemu() -> armemu_one()\n",
    "   "
   ]
  },
  {
   "cell_type": "markdown",
   "id": "12527a19",
   "metadata": {},
   "source": [
    "[10/03/2022]\n",
    "1. Arm Emulation:\n",
    "    * Where does arm state lives in the mem\n",
    "    * <img src=\"images/armstate1.png\" align=\"center\" width=\"50%\" height=\"50%\"/>\n",
    "    * **Thus we should have anything in the code that directly reference stack memory in the arm state.**\n",
    "2. Data Processing:\n",
    "    * Implementing `sub`, `add`, `cmp`, (later : AND, ORR)\n",
    "    * `mul`\n",
    "        * Not using 'Rn' as present in the instruction set.\n",
    "    * Single Data Transfer:\n",
    "        * ldr, str, ldrb, strb\n",
    "        * Understanding **ldr r0, [r1]**:\n",
    "            * 0xe5910000 -> 0b 1110 0101 1001 0001 0000 0000 0000 0000\n",
    "            * <img src=\"images/sdt1.png\" align=\"center\" width=\"85%\" height=\"85%\"/>\n",
    "        * Steps:\n",
    "            * Various forms ldr r0, [r1, r2] | ldr r0, [r1, r2, lsl #0]\n",
    "            * Calculate the Target address\n",
    "                * `Imm : Target = rn +/- offset  |  Reg : Traget = rn + shifted(rm) `\n",
    "            * Load:\n",
    "                * Either word | Byte\n",
    "                * `Word : asp->regs[rd] = *((uint32_t*)Target)  |  Byte : asp->regs[rd] = (uint32_t*)(*(uint8_t*))Target`, thus for Byte we want just a 8 bit value and not 32!!!\n",
    "        * Understanding **str**:\n",
    "            * ` Word : *((uint32_t*)Target) = asp->regs[rd] | Byte :*(*(uint8_t*))Target = (uint8_t)asp->regs[rd]`\n",
    "        * OFFSET:\n",
    "            * <img src=\"images/offset1.png\" align=\"center\" width=\"50%\" height=\"50%\"/>\n",
    "            * <img src=\"images/offset2.png\" align=\"center\" width=\"50%\" height=\"50%\"/>\n",
    "            * Extract the shift amount, identify the shift and do the shift.\n",
    "            \n",
    "   * Branches:\n",
    "       * <img src=\"images/branch1.png\" align=\"center\" width=\"50%\" height=\"50%\"/>\n",
    "       * <img src=\"images/branch2.png\" align=\"center\" width=\"50%\" height=\"50%\"/>\n",
    "       * PC + 8, adding 8 as branch state will be 2 steps ahead of the actual branching.\n",
    "   * Branch and Link:\n",
    "       * If `link bit == 1`, then `lr = PC + 4`\n",
    "   * `cmp/ bcc` (bcc : beq, bne, blt etc)\n",
    "       * CPSR bits(Current Program Status Register):\n",
    "           * N(-ve), Z(0), C(carry), V(overflow)\n",
    "           * How to compute NZCV bits ?\n",
    "               * cmp r0, r1 : works as signed bits i.e. r = r0 - r1\n",
    "               * <img src=\"images/cmp1.png\" align=\"center\" width=\"50%\" height=\"50%\"/>\n",
    "               * When doing C, we are doing unsigned value, i.e. if r1 is larger than r0 then C = 1. ((unsigned)r > 1)\n",
    "               * **Understanding Overflow, if we add 2 large +ve numbers than the result might be outside the 32 bit value, or vice-versa for the -ve numbers.**\n",
    "               * <img src=\"images/cmp2.png\" align=\"center\" width=\"50%\" height=\"50%\"/>\n",
    "               * How to decide the cond ? **Referring to the condition code**\n",
    "               * <img src=\"images/cmp3.png\" align=\"center\" width=\"75%\" height=\"75%\"/>"
   ]
  },
  {
   "cell_type": "code",
   "execution_count": null,
   "id": "e3e1b6e6",
   "metadata": {},
   "outputs": [],
   "source": []
  }
 ],
 "metadata": {
  "kernelspec": {
   "display_name": "Python 3 (ipykernel)",
   "language": "python",
   "name": "python3"
  },
  "language_info": {
   "codemirror_mode": {
    "name": "ipython",
    "version": 3
   },
   "file_extension": ".py",
   "mimetype": "text/x-python",
   "name": "python",
   "nbconvert_exporter": "python",
   "pygments_lexer": "ipython3",
   "version": "3.8.12"
  }
 },
 "nbformat": 4,
 "nbformat_minor": 5
}
