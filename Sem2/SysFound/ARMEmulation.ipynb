{
 "cells": [
  {
   "cell_type": "markdown",
   "id": "8806b065",
   "metadata": {},
   "source": [
    "[08/03/2022]\n",
    "1. Arm Emulation\n",
    "    - Emulation : A software that can imitate different architecture.\n",
    "    - QUMU, [x86 emulation in browser](https://bellard.org/jslinux/)\n",
    "    - objdump -D \\<filename>.o (Looking at the instruction value), eg. 0xe080 0001 (1110 0000 1000 0000 ... 0001)\n",
    "    - <img src=\"images/dataproc1.png\" align=\"center\" width=\"50%\" height=\"50%\"/>\n",
    "    - <img src=\"images/instrctn3.png\" align=\"center\" width=\"50%\" height=\"50%\"/>\n",
    "    - `DP bits` to understand which instruction it is!(Generally set of constraint bits), **For understanding which instruction it is move from more constraint to less contraint instruction**\n",
    "    - gcc -o \\<exec> \\<cpgm>.c \\<assembly>.s (To link assembly to C while executing), **ref analyze.c**\n",
    "    \n",
    "2. Arm state:\n",
    "    - <img src=\"images/armstate.png\" align=\"center\" width=\"50%\" height=\"50%\"/>\n",
    "    - Declaring a struct to handle the state. **ref armemu.c**, armemu_init() -> int armemu() -> armemu_one()\n",
    "   "
   ]
  },
  {
   "cell_type": "code",
   "execution_count": null,
   "id": "1bfdd2fb",
   "metadata": {},
   "outputs": [],
   "source": []
  }
 ],
 "metadata": {
  "kernelspec": {
   "display_name": "Python 3 (ipykernel)",
   "language": "python",
   "name": "python3"
  },
  "language_info": {
   "codemirror_mode": {
    "name": "ipython",
    "version": 3
   },
   "file_extension": ".py",
   "mimetype": "text/x-python",
   "name": "python",
   "nbconvert_exporter": "python",
   "pygments_lexer": "ipython3",
   "version": "3.8.12"
  }
 },
 "nbformat": 4,
 "nbformat_minor": 5
}
