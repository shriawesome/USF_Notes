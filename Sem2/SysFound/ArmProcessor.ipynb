{
 "cells": [
  {
   "cell_type": "markdown",
   "id": "23a4543f",
   "metadata": {},
   "source": [
    "[12/04/2022]\n",
    "## ARM processor\n",
    "1. Processor logic:\n",
    "    * Design:\n",
    "        * <img src=\"\" />\n",
    "    * Major Components:\n",
    "        * PC | Instruction Memory ROMS | Register File(Registers) | ALU | Data Memory(RAM) | shifter(operand shift) | Extender(add r0,r1,#7)(Convert 8 bit value to 32 bit value) | Control unit | adder(PC, ALU)\n",
    "        * <img src=\"images/arm1.png\" width=\"40%\" height=\"40%\" />\n",
    "    * Single-cycle processor -> Multi-cycle processor(less registers, instruction breaks down into multiple steps, single adder) -> pipeline processor(break instruction into different stages[fixed stages], execute instruction out of order and then combine it in order)\n",
    "    * **Instruction Memory(ROM):**\n",
    "        * <img src=\"images/armiw1.png\" width=\"40%\" height=\"40%\" />\n",
    "        * Need to convert byte address to word address and can be done by dividing PC Value by 4 or in other words right shifting the value twice.\n",
    "    * **Register File:**\n",
    "        * 32-bit registers(we had 8-bit register), can use 'Digital register'(no CLEAR line)\n",
    "        * Digital Register with CLR:\n",
    "            * <img src=\"images/reg_clr1.png\" width=\"40%\" height=\"40%\" />\n",
    "            * As the val of CLR is 1, it'll select O from MUX and will set the value to be 0 and otherwise will select 32-bit value.\n",
    "        * **READ:**\n",
    "            * add r0,r1,r2 : we end up reading from 2 registers and writing into 1.\n",
    "            * Architecture:\n",
    "                * <img src=\"images/reg_read_1.png\" width=\"40%\" height=\"40%\" />\n",
    "                * Can use tunnel for \"CLR\".\n",
    "        * We'll have **15** registers as PC is already there !!!\n",
    "        * **WRITE:**\n",
    "            * <img src=\"images/reg_write_1.png\" width=\"40%\" height=\"40%\" /> \n",
    "            * Need a modified decoder as we want to write to a specific register or else need not write to anything, hence we need a modified decoder\n",
    "            * 'And' Decoder output with Enable input.\n",
    "                * <img src=\"images/decoder_1.png\" width=\"40%\" height=\"40%\" /> \n",
    "            * PC inp:\n",
    "                * Get the PC and add it as if it is a 16th register!!! add the output to MUX(last output)\n",
    "            * Wire CLK and CLR appropriately.\n",
    "        * Outputs for Debugging\n",
    "    * **ALU**:\n",
    "        * Architecture:\n",
    "            * <img src=\"images/alu_1.png\" width=\"40%\" height=\"40%\" /> \n",
    "            * Shift would be performed a step before \"ALU\".\n",
    "            * Understanding Sub result:\n",
    "                * <img src=\"images/alu2.png\" width=\"40%\" height=\"40%\" />\n",
    "    * **Extender:**\n",
    "       * <img src=\"images/extender1.png\" width=\"40%\" height=\"40%\" />\n",
    "       * Performing extension using splitter.\n",
    "       * For **B lsl by 2 or mult by 4!!!**"
   ]
  },
  {
   "cell_type": "code",
   "execution_count": null,
   "id": "88ac14c7",
   "metadata": {},
   "outputs": [],
   "source": []
  }
 ],
 "metadata": {
  "kernelspec": {
   "display_name": "Python 3 (ipykernel)",
   "language": "python",
   "name": "python3"
  },
  "language_info": {
   "codemirror_mode": {
    "name": "ipython",
    "version": 3
   },
   "file_extension": ".py",
   "mimetype": "text/x-python",
   "name": "python",
   "nbconvert_exporter": "python",
   "pygments_lexer": "ipython3",
   "version": "3.8.12"
  }
 },
 "nbformat": 4,
 "nbformat_minor": 5
}
