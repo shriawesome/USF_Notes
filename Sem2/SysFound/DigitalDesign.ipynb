{
 "cells": [
  {
   "cell_type": "markdown",
   "id": "305ae24c",
   "metadata": {},
   "source": [
    "[31/03/2022]\n",
    "1. Components:\n",
    "    * Wires : Carrying values (0/1)\n",
    "    * Gates : Componenets connected to the wires\n",
    "    * AC/ DC\n",
    "    * Power (0 - 3.3V) <img src=\"images/power1.png\" width = \"50%\" height = \"50%\" />, Gates ensure that we get a low and high power within a specified range.\n",
    "2. Gate:\n",
    "    * AND, OR and NOT(along with an external clock) can make the entire computer.\n",
    "    * <img src=\"images/gates.png\" width = \"30%\" height = \"30%\" />\n",
    "    * **Combinational Logic** (output depends only on inputs and no cycle) whereas **Sequential Logic** (output depends on inputs along with previous values and may have a cycle, also requires a clock).\n",
    "    * [Tools](https://github.com/hneemann/Digital)\n",
    "3. Combinational Logic\n",
    "    * Adders\n",
    "        * 1 bit half adder\n",
    "        * <img src=\"images/adder1.png\" width = \"30%\" height = \"30%\" />\n",
    "        * Truth Table:\n",
    "            * <img src=\"images/adder2.png\" width = \"30%\" height = \"30%\" />\n",
    "        * Boolean Algebra\n",
    "            * Create Product term for each value by checking how many values are '1' and then writing a product term along with or term for all the possible values.\n",
    "            * <img src=\"images/adder3.png\" width = \"40%\" height = \"40%\" />\n",
    "            * Logic Gate :<img src=\"images/adder4.png\" width = \"40%\" height = \"40%\" /> ,Bubble in i/p means inverted value.\n",
    "        * **1 bit full Adder** :\n",
    "            * <img src=\"images/adder5.png\" width = \"50%\" height = \"50%\" />\n",
    "            * Ripple Adder\n",
    "                * <img src=\"images/adder6.png\" width = \"40%\" height = \"40%\" />\n",
    "                * **Propogation Delay**, though the values can be calculated in parallel but the final value is dependent on the c_in values. "
   ]
  },
  {
   "cell_type": "code",
   "execution_count": null,
   "id": "2c328827",
   "metadata": {},
   "outputs": [],
   "source": []
  }
 ],
 "metadata": {
  "kernelspec": {
   "display_name": "Python 3 (ipykernel)",
   "language": "python",
   "name": "python3"
  },
  "language_info": {
   "codemirror_mode": {
    "name": "ipython",
    "version": 3
   },
   "file_extension": ".py",
   "mimetype": "text/x-python",
   "name": "python",
   "nbconvert_exporter": "python",
   "pygments_lexer": "ipython3",
   "version": "3.8.12"
  }
 },
 "nbformat": 4,
 "nbformat_minor": 5
}
