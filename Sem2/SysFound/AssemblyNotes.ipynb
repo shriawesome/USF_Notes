{
 "cells": [
  {
   "cell_type": "markdown",
   "id": "6b237bb5",
   "metadata": {},
   "source": [
    "[02/17/2022]\n",
    "1. Arm Assembly\n",
    "    - Human readable/ writable form of the processor's machine code.\n",
    "    - Assembler -> Translate Code to the Machine Code.\n",
    "    - Assembly language helps us to write code in the form of Instructions. E.g. ADD r0,r1\n",
    "    - Registers : Variables of the processors(16 of them r0- r15)\n",
    "        * ro - r12, r13 : SP[Stack Pointer], r14 : LR[Linker Register], r15 : PC[Program Counter], r17 : CPSR[Current Program Startor Register] \n",
    "    <img src=\"images/assemIns1.png\" align=\"center\" width=\"30%\" height=\"30%\" />\n",
    "    - Labels\n",
    "        * Denote another important loc in code to jump directly to that part.\n",
    "    - Directives\n",
    "    - Data : In Assembly everything is Private unless specified as public\n",
    "    - **To return data in Assembly we need to first store it in r0 and then return that.**\n",
    "    - Instruction Types:\n",
    "        * Data Processing\n",
    "            * add, sub, mul, and, or\n",
    "        * Memory\n",
    "            * ldr(load data to register), str(store register)\n",
    "        * Control\n",
    "            * bx, b, beq(branch if equal, blt. \n",
    "    - Branching :\n",
    "        * `foo:`\n",
    "            * `cmp ro,#0 @compare info in ro to 0`\n",
    "            * `ble else  @jump to else part`\n",
    "            * `add ro,ro`\n",
    "            * `b end @ need to execute not the else part hence jump to 'end'`\n",
    "        * `else:`\n",
    "            * `add ro,ro,#2`\n",
    "        * `end:`\n",
    "            * `bx lr`\n",
    "2. Simple Code:\n",
    "    <img src=\"images/assemCode2.png\" align=\"center\" width=\"30%\" height=\"30%\" />\n",
    "    * Code:\n",
    "   <img src=\"images/assemCode3.png\" align=\"center\" width=\"25%\" height=\"25%\" />     \n",
    "    > as -o [filename].o [filename].s<br>\n",
    "    > file [filename].o<br>\n",
    "    > gcc -o [outputfile] [filename].o\n",
    "   \n",
    "3. Combine C with Assem:\n",
    "    * Refer add_main.c | add_c.c | add_s.s\n",
    "    * gcc -o add_main add_main.c add_c.c add_s.s | ./add_main\n",
    "    * gdb [filename] | (gdb)disassemble add_s | b add_s [to add breakpoint] | l add_s [too see function add_s] | info registers r0 r1 r2 | quit | r [to run] | stepi [step in a function]\n",
    "    * gcc -S -o add_c.s add_c.s [Generate assembly code] | -S instead of machine code assembly language code | -O3 : optimized code.\n",
    "    * Refer to mul_main.c\n"
   ]
  },
  {
   "cell_type": "code",
   "execution_count": null,
   "id": "e5e74fef",
   "metadata": {},
   "outputs": [],
   "source": []
  }
 ],
 "metadata": {
  "kernelspec": {
   "display_name": "Python 3 (ipykernel)",
   "language": "python",
   "name": "python3"
  },
  "language_info": {
   "codemirror_mode": {
    "name": "ipython",
    "version": 3
   },
   "file_extension": ".py",
   "mimetype": "text/x-python",
   "name": "python",
   "nbconvert_exporter": "python",
   "pygments_lexer": "ipython3",
   "version": "3.8.12"
  }
 },
 "nbformat": 4,
 "nbformat_minor": 5
}
