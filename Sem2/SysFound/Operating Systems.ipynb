{
 "cells": [
  {
   "cell_type": "markdown",
   "id": "82723d7b",
   "metadata": {},
   "source": [
    "# Operating System\n",
    "1. Creating new processes:\n",
    "    * fork() : create new process [Unix Based]\n",
    "    * exec() : Program loading\n",
    "    * PCB(Process Control Block) : meta data of the Process\n",
    "    * <img src=\"images/fork1.png\" width=\"30%\" height=\"30%\" />\n",
    "    * When sys_fork() is called it creates a new process with the exact code as the parent but with different PID.\n",
    "    * Parent code will have a `PID of the child` and for the `child process PID == 0.`\n",
    "    * Execution is resumed in both the processes.\n",
    "2. Virtual Memory;\n",
    "    * <img src=\"images/fork2.png\" width=\"40%\" height=\"40%\" />\n",
    "3. exec():\n",
    "    * Runs a program present in the file system (that is present in a correct executable format)\n",
    "    * Creates a new process and the Child code in the Parent code will never be executed after the exec()\n",
    "    * <img src=\"images/exec1.png\" width=\"40%\" height=\"40%\" />\n",
    "    * When exec() is called `PID remains the same` along with the file description.\n",
    "4. File Descriptors:\n",
    "    * fopen(),fread(), fwrite() - in C are all buffer IO and in turn makes a system call say open(), read() and write() etc.\n",
    "    * <img src=\"images/fd1.png\" width=\"40%\" height=\"40%\" />\n",
    "    * The table is in kernel and the only way to access it is using 'fd' below.\n",
    "    * First 3 slots are booked for console.\n",
    "    * Accessing FD : fd = open(\"fodd.txt\",O_RDONLY) | N = read(fd, buf, 100)\n",
    "    * Code <redirect.c>:\n",
    "        * close(1); // clears the stdout entry in FD\n",
    "        * #include \"kernel/fcntl.h\" // to get the macros for the kernel\n",
    "        * fd = open(\"hello.out\", O_WRONLY| O_CREATE);\n",
    "        * Read contents of the file, fd = open(\"hello.out\",O_RDONLY); char buf[128]; n = read(fd, buf, 128); buf[n] = '\\0';\n",
    "5. Pipes:\n",
    "    * A circular buffer to read and write the data into it.\n",
    "    * Buffer is allocated in the Kernel.\n",
    "    * Once all the write ends are closed then the read will unblock and continue.\n",
    "    * <img src=\"images/pipe1.png\" width=\"40%\" height=\"40%\" />\n",
    "    * p(0) -> read end and p(1) -> write end\n",
    "    * Code:\n",
    "        * Important to do `pipe(p)` before fork so that the child and the parent has the pipe entry in the descriptor.\n",
    "        * <img src=\"images/pipe2.png\" />\n",
    "        * Setting up > ls | wc \n",
    "        * <img src=\"images/pipe3.png\" />\n",
    "        * <img src=\"images/pipe4.png\" width=\"40%\" height=\"40%\" />\n",
    "          \n",
    "6. Adding a Sys Call:\n",
    "    * Tell us how many free pages are left in the kernel?  Ref `kalloc.c`, `defs.h` and search for // kalloc.c, then changes in `main.c` -> `syscall.h` and add .....(6:18) -> `syscall.c` and add entry ... -> `sysproc.c` ...\n",
    "    * User side:\n",
    "        * `user.h` add prototye -> `usys.pl` ...  -> Then create a user program to chech the sys call.\n",
    "    * Code :\n",
    "        * <img src=\"images/Sys1.png\" width=\"75%\" height=\"75%\" />"
   ]
  },
  {
   "cell_type": "code",
   "execution_count": null,
   "id": "c1dec87c",
   "metadata": {},
   "outputs": [],
   "source": []
  }
 ],
 "metadata": {
  "kernelspec": {
   "display_name": "Python 3 (ipykernel)",
   "language": "python",
   "name": "python3"
  },
  "language_info": {
   "codemirror_mode": {
    "name": "ipython",
    "version": 3
   },
   "file_extension": ".py",
   "mimetype": "text/x-python",
   "name": "python",
   "nbconvert_exporter": "python",
   "pygments_lexer": "ipython3",
   "version": "3.8.12"
  }
 },
 "nbformat": 4,
 "nbformat_minor": 5
}
