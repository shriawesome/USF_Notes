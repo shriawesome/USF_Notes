{
 "cells": [
  {
   "cell_type": "markdown",
   "id": "82723d7b",
   "metadata": {},
   "source": [
    "# Operating System\n",
    "1. **OS Design**\n",
    "    - fd\n",
    "2. Creating new processes:\n",
    "    * fork() : create new process [Unix Based]\n",
    "    * exec() : Program loading\n",
    "    * PCB(Process Control Block) : meta data of the Process\n",
    "    * <img src=\"images/fork1.png\" width=\"30%\" height=\"30%\" />\n",
    "        * When sys_fork() is called it creates a new process with the exact code as the parent but with different PID.\n",
    "        * Parent code will have a `PID of the child` and for the `child process PID == 0.`\n",
    "        * Execution is resumed in both the processes.\n",
    "3. Virtual Memory;\n",
    "    * <img src=\"images/fork2.png\" width=\"40%\" height=\"40%\" />\n",
    "4. exec():\n",
    "    * Creates a new process and the Child code in the Parent code will never be executed after the exec()\n",
    "    * <img src=\"images/exec1.png\" width=\"40%\" height=\"40%\" />"
   ]
  },
  {
   "cell_type": "code",
   "execution_count": null,
   "id": "c1dec87c",
   "metadata": {},
   "outputs": [],
   "source": []
  }
 ],
 "metadata": {
  "kernelspec": {
   "display_name": "Python 3 (ipykernel)",
   "language": "python",
   "name": "python3"
  },
  "language_info": {
   "codemirror_mode": {
    "name": "ipython",
    "version": 3
   },
   "file_extension": ".py",
   "mimetype": "text/x-python",
   "name": "python",
   "nbconvert_exporter": "python",
   "pygments_lexer": "ipython3",
   "version": "3.8.12"
  }
 },
 "nbformat": 4,
 "nbformat_minor": 5
}
