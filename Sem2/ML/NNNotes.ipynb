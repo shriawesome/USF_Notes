{
 "cells": [
  {
   "cell_type": "markdown",
   "id": "8dcb25c0",
   "metadata": {},
   "source": [
    "## Neural Networks\n",
    "1. Advantages\n",
    "    - Can learn any function and generate any decision boundary\n",
    "    - No feature engineering required.\n",
    "2. Disadvantge\n",
    "    - Computationally expensive to train\n",
    "    - Difficult to find optimal architecture & hyperparameters\n",
    "    - Difficult to explain\n",
    "3. Perceptron :\n",
    "    - y = 1 if ($\\sum{w_i*x_i})$>0 else 0\n",
    "4. Feed Forward NN:\n",
    "    - <img src=\"images/ff1.png\" />\n",
    "5. Chain Rule:\n",
    "    - <img src=\"images/chain1.png\" />\n",
    "6. Backpropogation:\n",
    "    - "
   ]
  },
  {
   "cell_type": "code",
   "execution_count": null,
   "id": "e74f66e1",
   "metadata": {},
   "outputs": [],
   "source": []
  },
  {
   "cell_type": "code",
   "execution_count": null,
   "id": "3932c562",
   "metadata": {},
   "outputs": [],
   "source": []
  }
 ],
 "metadata": {
  "kernelspec": {
   "display_name": "Python 3 (ipykernel)",
   "language": "python",
   "name": "python3"
  },
  "language_info": {
   "codemirror_mode": {
    "name": "ipython",
    "version": 3
   },
   "file_extension": ".py",
   "mimetype": "text/x-python",
   "name": "python",
   "nbconvert_exporter": "python",
   "pygments_lexer": "ipython3",
   "version": "3.8.12"
  }
 },
 "nbformat": 4,
 "nbformat_minor": 5
}
