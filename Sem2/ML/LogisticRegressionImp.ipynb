{
 "cells": [
  {
   "cell_type": "code",
   "execution_count": 32,
   "id": "518a8ace",
   "metadata": {},
   "outputs": [],
   "source": [
    "import pandas as pd\n",
    "import numpy as np\n",
    "import nltk\n",
    "\n",
    "from sklearn.feature_extraction.text import CountVectorizer\n",
    "from sklearn.linear_model import LogisticRegression\n",
    "from sklearn.model_selection import GridSearchCV\n",
    "\n",
    "from sklearn.metrics import accuracy_score\n",
    "from sklearn.metrics import confusion_matrix"
   ]
  },
  {
   "cell_type": "markdown",
   "id": "7d1ecabc",
   "metadata": {},
   "source": [
    "## Getting the data"
   ]
  },
  {
   "cell_type": "code",
   "execution_count": 2,
   "id": "4826af87",
   "metadata": {},
   "outputs": [
    {
     "data": {
      "text/html": [
       "<div>\n",
       "<style scoped>\n",
       "    .dataframe tbody tr th:only-of-type {\n",
       "        vertical-align: middle;\n",
       "    }\n",
       "\n",
       "    .dataframe tbody tr th {\n",
       "        vertical-align: top;\n",
       "    }\n",
       "\n",
       "    .dataframe thead th {\n",
       "        text-align: right;\n",
       "    }\n",
       "</style>\n",
       "<table border=\"1\" class=\"dataframe\">\n",
       "  <thead>\n",
       "    <tr style=\"text-align: right;\">\n",
       "      <th></th>\n",
       "      <th>label</th>\n",
       "      <th>tweets</th>\n",
       "    </tr>\n",
       "  </thead>\n",
       "  <tbody>\n",
       "    <tr>\n",
       "      <th>0</th>\n",
       "      <td>NOT</td>\n",
       "      <td>Bumping dj sefs mixtape nowww this is my music...</td>\n",
       "    </tr>\n",
       "    <tr>\n",
       "      <th>1</th>\n",
       "      <td>NOT</td>\n",
       "      <td>#ieroween THE STORY OF IEROWEEN! THE VIDEO -&gt;&gt;...</td>\n",
       "    </tr>\n",
       "    <tr>\n",
       "      <th>2</th>\n",
       "      <td>NOT</td>\n",
       "      <td>trick or treating at the mall today; ZOO! last...</td>\n",
       "    </tr>\n",
       "    <tr>\n",
       "      <th>3</th>\n",
       "      <td>NOT</td>\n",
       "      <td>@Ussk81 PMSL!!! I try not to stare but I can't...</td>\n",
       "    </tr>\n",
       "    <tr>\n",
       "      <th>4</th>\n",
       "      <td>NOT</td>\n",
       "      <td>@Sc0rpi0n676 btw - is there a remote chance i ...</td>\n",
       "    </tr>\n",
       "  </tbody>\n",
       "</table>\n",
       "</div>"
      ],
      "text/plain": [
       "  label                                             tweets\n",
       "0   NOT  Bumping dj sefs mixtape nowww this is my music...\n",
       "1   NOT  #ieroween THE STORY OF IEROWEEN! THE VIDEO ->>...\n",
       "2   NOT  trick or treating at the mall today; ZOO! last...\n",
       "3   NOT  @Ussk81 PMSL!!! I try not to stare but I can't...\n",
       "4   NOT  @Sc0rpi0n676 btw - is there a remote chance i ..."
      ]
     },
     "execution_count": 2,
     "metadata": {},
     "output_type": "execute_result"
    }
   ],
   "source": [
    "tweets = pd.read_csv('dataset/general-tweets.txt',sep=\"\\t\",header=None)\n",
    "tweets.columns = ['label','tweets']\n",
    "tweets.head()"
   ]
  },
  {
   "cell_type": "code",
   "execution_count": 3,
   "id": "0d5e491f",
   "metadata": {},
   "outputs": [],
   "source": [
    "x_train = tweets['tweets']\n",
    "y_train = tweets['label']"
   ]
  },
  {
   "cell_type": "code",
   "execution_count": 4,
   "id": "7cd90c18",
   "metadata": {},
   "outputs": [
    {
     "data": {
      "text/html": [
       "<div>\n",
       "<style scoped>\n",
       "    .dataframe tbody tr th:only-of-type {\n",
       "        vertical-align: middle;\n",
       "    }\n",
       "\n",
       "    .dataframe tbody tr th {\n",
       "        vertical-align: top;\n",
       "    }\n",
       "\n",
       "    .dataframe thead th {\n",
       "        text-align: right;\n",
       "    }\n",
       "</style>\n",
       "<table border=\"1\" class=\"dataframe\">\n",
       "  <thead>\n",
       "    <tr style=\"text-align: right;\">\n",
       "      <th></th>\n",
       "      <th>label</th>\n",
       "      <th>tweets</th>\n",
       "    </tr>\n",
       "  </thead>\n",
       "  <tbody>\n",
       "    <tr>\n",
       "      <th>0</th>\n",
       "      <td>POLIT</td>\n",
       "      <td>Global Voices Online Â» Alex Castro: A liberal...</td>\n",
       "    </tr>\n",
       "    <tr>\n",
       "      <th>1</th>\n",
       "      <td>POLIT</td>\n",
       "      <td>Do the Conservatives Have a Death Wish? http:/...</td>\n",
       "    </tr>\n",
       "    <tr>\n",
       "      <th>2</th>\n",
       "      <td>NOT</td>\n",
       "      <td>@MMFlint I've seen all of your movies and Capi...</td>\n",
       "    </tr>\n",
       "    <tr>\n",
       "      <th>3</th>\n",
       "      <td>POLIT</td>\n",
       "      <td>RT @AllianceAlert: * House Dems ask for civili...</td>\n",
       "    </tr>\n",
       "    <tr>\n",
       "      <th>4</th>\n",
       "      <td>POLIT</td>\n",
       "      <td>RT @AdamSmithInst Quote of the week: My politi...</td>\n",
       "    </tr>\n",
       "  </tbody>\n",
       "</table>\n",
       "</div>"
      ],
      "text/plain": [
       "   label                                             tweets\n",
       "0  POLIT  Global Voices Online Â» Alex Castro: A liberal...\n",
       "1  POLIT  Do the Conservatives Have a Death Wish? http:/...\n",
       "2    NOT  @MMFlint I've seen all of your movies and Capi...\n",
       "3  POLIT  RT @AllianceAlert: * House Dems ask for civili...\n",
       "4  POLIT  RT @AdamSmithInst Quote of the week: My politi..."
      ]
     },
     "execution_count": 4,
     "metadata": {},
     "output_type": "execute_result"
    }
   ],
   "source": [
    "tweets_test = pd.read_csv('dataset/keyword-tweets.txt',sep=\"\\t\",header=None)\n",
    "tweets_test.columns = ['label','tweets']\n",
    "tweets_test.head()"
   ]
  },
  {
   "cell_type": "code",
   "execution_count": 5,
   "id": "f01a2a38",
   "metadata": {},
   "outputs": [
    {
     "name": "stdout",
     "output_type": "stream",
     "text": [
      "Train size : (2000,), Test Size : (2004,)\n"
     ]
    }
   ],
   "source": [
    "x_test = tweets_test['tweets']\n",
    "y_test = tweets_test['label']\n",
    "print(\"Train size : {}, Test Size : {}\".format(x_train.shape, x_test.shape))"
   ]
  },
  {
   "cell_type": "code",
   "execution_count": 6,
   "id": "6fb2a6ab",
   "metadata": {},
   "outputs": [],
   "source": [
    "# Converting Str labels to int\n",
    "y_train = np.where(y_train==\"NOT\",0,1)\n",
    "y_test = np.where(y_test==\"NOT\",0,1)"
   ]
  },
  {
   "cell_type": "code",
   "execution_count": 7,
   "id": "05c63667",
   "metadata": {},
   "outputs": [
    {
     "data": {
      "text/plain": [
       "(array([0, 0, 0, ..., 0, 0, 1]), array([1, 1, 0, ..., 1, 1, 0]))"
      ]
     },
     "execution_count": 7,
     "metadata": {},
     "output_type": "execute_result"
    }
   ],
   "source": [
    "y_train, y_test"
   ]
  },
  {
   "cell_type": "markdown",
   "id": "55a3f47a",
   "metadata": {},
   "source": [
    "### Tokenize"
   ]
  },
  {
   "cell_type": "code",
   "execution_count": 15,
   "id": "3ae9e2b3",
   "metadata": {},
   "outputs": [
    {
     "data": {
      "text/plain": [
       "(2000, 8807)"
      ]
     },
     "execution_count": 15,
     "metadata": {},
     "output_type": "execute_result"
    }
   ],
   "source": [
    "vect = CountVectorizer(stop_words='english')\n",
    "x_train_ = vect.fit_transform(x_train)\n",
    "x_train_.shape"
   ]
  },
  {
   "cell_type": "code",
   "execution_count": 16,
   "id": "5662acc6",
   "metadata": {},
   "outputs": [],
   "source": [
    "x_train_vect = x_train_.toarray()"
   ]
  },
  {
   "cell_type": "code",
   "execution_count": 17,
   "id": "85406598",
   "metadata": {},
   "outputs": [
    {
     "data": {
      "text/plain": [
       "(2004, 8807)"
      ]
     },
     "execution_count": 17,
     "metadata": {},
     "output_type": "execute_result"
    }
   ],
   "source": [
    "x_test_vect = vect.transform(x_test).toarray()\n",
    "x_test_vect.shape"
   ]
  },
  {
   "cell_type": "markdown",
   "id": "64d8b6d9",
   "metadata": {},
   "source": [
    "## Build the Model"
   ]
  },
  {
   "cell_type": "code",
   "execution_count": 21,
   "id": "dc0c4bec",
   "metadata": {},
   "outputs": [
    {
     "data": {
      "text/plain": [
       "LogisticRegression()"
      ]
     },
     "execution_count": 21,
     "metadata": {},
     "output_type": "execute_result"
    }
   ],
   "source": [
    "clf = LogisticRegression()\n",
    "clf.fit(x_train_vect,y_train)"
   ]
  },
  {
   "cell_type": "code",
   "execution_count": 23,
   "id": "e1f20917",
   "metadata": {},
   "outputs": [
    {
     "data": {
      "text/plain": [
       "0.15718562874251496"
      ]
     },
     "execution_count": 23,
     "metadata": {},
     "output_type": "execute_result"
    }
   ],
   "source": [
    "accuracy_score(y_test,clf.predict(x_test_vect))"
   ]
  },
  {
   "cell_type": "markdown",
   "id": "e2e42f42",
   "metadata": {},
   "source": [
    "### Understanding why it is bad !"
   ]
  },
  {
   "cell_type": "code",
   "execution_count": 28,
   "id": "6a011d63",
   "metadata": {},
   "outputs": [
    {
     "name": "stdout",
     "output_type": "stream",
     "text": [
      "True negatives : 313\n",
      "False positives : 0\n",
      "False negatives : 1689\n",
      "True positives : 2\n"
     ]
    }
   ],
   "source": [
    "tn,fp,fn,tp = confusion_matrix(y_test, clf.predict(x_test_vect)).ravel()\n",
    "print(\"True negatives : {}\\nFalse positives : {}\\nFalse negatives : {}\\nTrue positives : {}\".format(tn,fp,fn,tp))"
   ]
  },
  {
   "cell_type": "code",
   "execution_count": 31,
   "id": "c62dcbdb",
   "metadata": {},
   "outputs": [
    {
     "data": {
      "text/plain": [
       "1691"
      ]
     },
     "execution_count": 31,
     "metadata": {},
     "output_type": "execute_result"
    }
   ],
   "source": [
    "y_test.sum()"
   ]
  },
  {
   "cell_type": "code",
   "execution_count": 46,
   "id": "c486d9fc",
   "metadata": {},
   "outputs": [
    {
     "data": {
      "text/plain": [
       "(2004,)"
      ]
     },
     "execution_count": 46,
     "metadata": {},
     "output_type": "execute_result"
    }
   ],
   "source": [
    "y_test.shape"
   ]
  },
  {
   "cell_type": "markdown",
   "id": "5abb3512",
   "metadata": {},
   "source": [
    "### Performing Regularisation"
   ]
  },
  {
   "cell_type": "code",
   "execution_count": 33,
   "id": "39da9021",
   "metadata": {},
   "outputs": [
    {
     "name": "stderr",
     "output_type": "stream",
     "text": [
      "/Users/shrikantkendre/miniforge3/envs/tf2M1/lib/python3.8/site-packages/sklearn/svm/_base.py:1206: ConvergenceWarning: Liblinear failed to converge, increase the number of iterations.\n",
      "  warnings.warn(\n",
      "/Users/shrikantkendre/miniforge3/envs/tf2M1/lib/python3.8/site-packages/sklearn/svm/_base.py:1206: ConvergenceWarning: Liblinear failed to converge, increase the number of iterations.\n",
      "  warnings.warn(\n",
      "/Users/shrikantkendre/miniforge3/envs/tf2M1/lib/python3.8/site-packages/sklearn/svm/_base.py:1206: ConvergenceWarning: Liblinear failed to converge, increase the number of iterations.\n",
      "  warnings.warn(\n"
     ]
    },
    {
     "data": {
      "text/plain": [
       "GridSearchCV(cv=10, estimator=LogisticRegression(solver='liblinear'),\n",
       "             param_grid={'C': [0.0001, 0.001, 0.01, 0.1, 1, 10, 100, 1000],\n",
       "                         'penalty': ['l1', 'l2']})"
      ]
     },
     "execution_count": 33,
     "metadata": {},
     "output_type": "execute_result"
    }
   ],
   "source": [
    "parameters = {'penalty':['l1','l2'],\n",
    "             'C':[0.0001,0.001, 0.01, 0.1, 1, 10, 100, 1000]}\n",
    "lr = LogisticRegression(solver='liblinear')\n",
    "clf = GridSearchCV(lr, parameters, cv=10)\n",
    "clf.fit(x_train_vect,y_train)"
   ]
  },
  {
   "cell_type": "code",
   "execution_count": 34,
   "id": "c7b32b9a",
   "metadata": {},
   "outputs": [
    {
     "data": {
      "text/plain": [
       "{'C': 10, 'penalty': 'l1'}"
      ]
     },
     "execution_count": 34,
     "metadata": {},
     "output_type": "execute_result"
    }
   ],
   "source": [
    "clf.best_params_"
   ]
  },
  {
   "cell_type": "code",
   "execution_count": 37,
   "id": "99432008",
   "metadata": {},
   "outputs": [
    {
     "data": {
      "text/plain": [
       "LogisticRegression(C=10, penalty='l1', solver='liblinear')"
      ]
     },
     "execution_count": 37,
     "metadata": {},
     "output_type": "execute_result"
    }
   ],
   "source": [
    "clf.best_estimator_"
   ]
  },
  {
   "cell_type": "code",
   "execution_count": 40,
   "id": "53a27039",
   "metadata": {},
   "outputs": [
    {
     "name": "stdout",
     "output_type": "stream",
     "text": [
      "Training Accuracy : 1.0, Testing Accuracy : 0.2884231536926148\n"
     ]
    }
   ],
   "source": [
    "print(\"Training Accuracy : {}, Testing Accuracy : {}\".format(accuracy_score(y_train,clf.predict(x_train_vect)),accuracy_score(y_test,clf.predict(x_test_vect))))"
   ]
  },
  {
   "cell_type": "code",
   "execution_count": 50,
   "id": "20dc91f8",
   "metadata": {
    "scrolled": true
   },
   "outputs": [
    {
     "data": {
      "text/plain": [
       "array([[0., 0., 0., ..., 0., 0., 0.]])"
      ]
     },
     "execution_count": 50,
     "metadata": {},
     "output_type": "execute_result"
    }
   ],
   "source": [
    "clf.best_estimator_.coef_"
   ]
  }
 ],
 "metadata": {
  "kernelspec": {
   "display_name": "Python 3 (ipykernel)",
   "language": "python",
   "name": "python3"
  },
  "language_info": {
   "codemirror_mode": {
    "name": "ipython",
    "version": 3
   },
   "file_extension": ".py",
   "mimetype": "text/x-python",
   "name": "python",
   "nbconvert_exporter": "python",
   "pygments_lexer": "ipython3",
   "version": "3.8.12"
  }
 },
 "nbformat": 4,
 "nbformat_minor": 5
}
