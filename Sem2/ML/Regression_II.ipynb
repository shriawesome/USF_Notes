{
 "cells": [
  {
   "cell_type": "markdown",
   "id": "b07c92f4",
   "metadata": {},
   "source": [
    "# Regression II\n",
    "1. Overfitting in Linear Regression:\n",
    "    * If the data is incorrect and we fit the model then the model might try to fit in the that dataset, then in that case LR can overfit the model but otherwise not.\n",
    "    * Specifically weights are too high\n",
    "2. Underfitting:\n",
    "    * Specifically algorithm is too rigid.\n",
    "3. Lasso(L1 Norm) :\n",
    "    * Least Absolute Shrinkage and Selection Operator\n",
    "    * Goal : Improve model accuracy through regularisation/ penalisation\n",
    "    <img src=\"images/lasso.png\" width=\"40%\" height=\"40%\" align=\"center\" />\n",
    "    * In the above fig we are trying to get the value of the slope to the blue point i.e. to the top of the square.\n",
    "    * Choosing lasso :\n",
    "        - Akaike Information Criterion\n",
    "            * \"Out-of-sample\" prediction error estimate\n",
    "            * Given train set, what can you expect from test?\n",
    "        - Bayesian information Criterion\n",
    "            * Model should improve(greatly) when adding more data/ parameters.\n",
    "4. Ridge(L2 Norm) :\n",
    "    * Constraint area is a circle/ sphere/ hyperspace\n",
    "    <img src=\"images/ridge.png\" width=\"40%\" height=\"40%\" align=\"center\" />\n",
    "5. Elastic Net:\n",
    "    * Combines LASSO and RIDGE rigression.\n",
    "    * Controls the degree of each contribution with the \"lambda\" param."
   ]
  },
  {
   "cell_type": "markdown",
   "id": "cfbae91e",
   "metadata": {},
   "source": [
    "### Polynomial Regression\n",
    "1. $y=\\beta_{0} + \\beta_{1}x + \\beta_{2}x^{2}...+\\beta_{k}x^{k}$\n",
    "2. Fits a k-order polynomial data, 0 : predict the mean, 1 : linear regression.\n",
    "3. Procedure\n",
    "    * Decide on order of model based on the data\n",
    "    * Decide the fit measure($R^{2}?$) and threshold for performance\n",
    "    * Use forward selection or backward elimination to determine final model."
   ]
  },
  {
   "cell_type": "code",
   "execution_count": 1,
   "id": "95a828e8",
   "metadata": {},
   "outputs": [
    {
     "ename": "NameError",
     "evalue": "name 'pf3' is not defined",
     "output_type": "error",
     "traceback": [
      "\u001b[0;31m---------------------------------------------------------------------------\u001b[0m",
      "\u001b[0;31mNameError\u001b[0m                                 Traceback (most recent call last)",
      "\u001b[0;32m/var/folders/q6/43vsmv9x2pz_q1psr6pkrlyh0000gn/T/ipykernel_1125/3690482459.py\u001b[0m in \u001b[0;36m<module>\u001b[0;34m\u001b[0m\n\u001b[0;32m----> 1\u001b[0;31m \u001b[0mpf3\u001b[0m\u001b[0;34m\u001b[0m\u001b[0;34m\u001b[0m\u001b[0m\n\u001b[0m",
      "\u001b[0;31mNameError\u001b[0m: name 'pf3' is not defined"
     ]
    }
   ],
   "source": [
    "pf3"
   ]
  },
  {
   "cell_type": "code",
   "execution_count": null,
   "id": "dbc90a5d",
   "metadata": {},
   "outputs": [],
   "source": []
  }
 ],
 "metadata": {
  "kernelspec": {
   "display_name": "Python 3 (ipykernel)",
   "language": "python",
   "name": "python3"
  },
  "language_info": {
   "codemirror_mode": {
    "name": "ipython",
    "version": 3
   },
   "file_extension": ".py",
   "mimetype": "text/x-python",
   "name": "python",
   "nbconvert_exporter": "python",
   "pygments_lexer": "ipython3",
   "version": "3.8.12"
  }
 },
 "nbformat": 4,
 "nbformat_minor": 5
}
