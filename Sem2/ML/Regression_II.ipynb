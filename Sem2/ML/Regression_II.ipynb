{
 "cells": [
  {
   "cell_type": "markdown",
   "id": "b07c92f4",
   "metadata": {},
   "source": [
    "# Regression II\n",
    "1. Overfitting in Linear Regression:\n",
    "    * If the data is incorrect and we fit the model then the model might try to fit in the that dataset, then in that case LR can overfit the model but otherwise not.\n",
    "    * Specifically weights are too high\n",
    "2. Underfitting:\n",
    "    * Specifically algorithm is too rigid.\n",
    "3. Lasso(L1 Norm) :\n",
    "    * Least Absolute Shrinkage and Selection Operator\n",
    "    * Goal : Improve model accuracy through regularisation/ penalisation\n",
    "    <img src=\"images/lasso.png\" width=\"40%\" height=\"40%\" align=\"center\" />\n",
    "    * In the above fig we are trying to get the value of the slope to the blue point i.e. to the top of the square.\n",
    "    * Choosing lasso :\n",
    "        - Akaike Information Criterion\n",
    "            * \"Out-of-sample\" prediction error estimate\n",
    "            * Given train set, what can you expect from test?\n",
    "        - Bayesian information Criterion\n",
    "            * Model should improve(greatly) when adding more data/ parameters.\n",
    "4. Ridge(L2 Norm) :\n",
    "    * Constraint area is a circle/ sphere/ hyperspace\n",
    "    <img src=\"images/ridge.png\" width=\"40%\" height=\"40%\" align=\"center\" />\n",
    "5. Elastic Net:\n",
    "    * Combines LASSO and RIDGE rigression.\n",
    "    * Controls the degree of each contribution with the \"lambda\" param."
   ]
  },
  {
   "cell_type": "markdown",
   "id": "cfbae91e",
   "metadata": {},
   "source": [
    "### Polynomial Regression\n",
    "1. $y=\\beta_{0} + \\beta_{1}x + \\beta_{2}x^{2}...+\\beta_{k}x^{k}$\n",
    "2. Fits a k-order polynomial data, 0 : predict the mean, 1 : linear regression.\n",
    "3. Procedure\n",
    "    * Decide on order of model based on the data\n",
    "    * Decide the fit measure($R^{2}?$) and threshold for performance\n",
    "    * Use forward selection or backward elimination to determine final model.\n",
    "    \n",
    "### Splines\n",
    "1. Often useful when polynomial fit fails to meet performance threshold\n",
    "2. Conceptually : Piecewise polynomial\n",
    "    * Data range divided into regions\n",
    "    * Each region has a unique mean\n",
    "    * Each region has unique polynomial\n",
    "3. Knots used to join adjacent areas\n",
    "    * Knots must be continuous, share 1st and 2nd derivate\n",
    "    * <img src=\"images/splines1.png\" width=\"40%\" height=\"40%\" align=\"center\" />\n",
    "    * Can be used for **interpolation** and not for the prediction of values."
   ]
  },
  {
   "cell_type": "code",
   "execution_count": null,
   "id": "95a828e8",
   "metadata": {},
   "outputs": [],
   "source": []
  },
  {
   "cell_type": "code",
   "execution_count": null,
   "id": "dbc90a5d",
   "metadata": {},
   "outputs": [],
   "source": []
  }
 ],
 "metadata": {
  "kernelspec": {
   "display_name": "Python 3 (ipykernel)",
   "language": "python",
   "name": "python3"
  },
  "language_info": {
   "codemirror_mode": {
    "name": "ipython",
    "version": 3
   },
   "file_extension": ".py",
   "mimetype": "text/x-python",
   "name": "python",
   "nbconvert_exporter": "python",
   "pygments_lexer": "ipython3",
   "version": "3.8.12"
  }
 },
 "nbformat": 4,
 "nbformat_minor": 5
}
