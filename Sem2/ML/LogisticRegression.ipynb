{
 "cells": [
  {
   "cell_type": "markdown",
   "id": "31926882",
   "metadata": {},
   "source": [
    "## Logistic Regression:\n",
    "1. Three types of Logistic Regression :\n",
    "    * Binomial\n",
    "    * Multinomial\n",
    "    * Ordinal\n",
    "2. <img src=\"images/LoR1.png\" width=\"40%\" height=\"40%\" align=\"center\" /> \n",
    "3. If we fit a Linear Regression, we might get a -ve probability and that can be problematic\n",
    "4. Log(odds of something) = log($\\frac{p}{(1-p)}$), when we use a linear regression then we might end up having -ve probabilities and that'll be weird.\n",
    "5. Goodness of a fit\n",
    "    * <img src=\"images/mle1.png\" width=\"40%\" height=\"40%\" align=\"center\" /> \n",
    "    * Sample labelled 1 :  Estimate $\\theta$ such that P(x) ~ 1\n",
    "    * Sample labelled 0 : Estimate $\\theta$ such that (1 - P(x)) ~ 1\n",
    "    * MLE = $\\prod_{i=1}^{n}p(x_{i})^{y_{i}}(1-p(x_{i}))^{(1 - y_{i})}$\n",
    "    * Since the multiplication of probabilities can lead to numbers that the computer can't calculate hence we can take log(\\<term>) so as to avoid underflow, and also log leads to summation in place of Product."
   ]
  },
  {
   "cell_type": "code",
   "execution_count": null,
   "id": "d6b1407a",
   "metadata": {},
   "outputs": [],
   "source": []
  }
 ],
 "metadata": {
  "kernelspec": {
   "display_name": "Python 3 (ipykernel)",
   "language": "python",
   "name": "python3"
  },
  "language_info": {
   "codemirror_mode": {
    "name": "ipython",
    "version": 3
   },
   "file_extension": ".py",
   "mimetype": "text/x-python",
   "name": "python",
   "nbconvert_exporter": "python",
   "pygments_lexer": "ipython3",
   "version": "3.8.12"
  }
 },
 "nbformat": 4,
 "nbformat_minor": 5
}
