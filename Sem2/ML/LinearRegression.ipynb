{
 "cells": [
  {
   "cell_type": "markdown",
   "id": "42cd34e3",
   "metadata": {},
   "source": [
    "## Linear Regression\n",
    "1. Assumptions:\n",
    "    * **Linearity**: The relationship between X and the mean of Y is linear.\n",
    "    * **Homoscedasticity**: The variance of residual is the same for any value of X.\n",
    "    * **Independence**: Observations are independent of each other.\n",
    "    * **Normality**: For any fixed value of X, Y is normally distributed.\n",
    "2. Model : Algorithm + data + Hyperparameter forms a model.\n",
    "3. Testing and Training : <....>\n",
    "4. Regression Types :\n",
    "    * Parametric\n",
    "        - Assumption y = f(x)\n",
    "        - Function applies to all values of x\n",
    "        - Learning means deciding on the function / parameters / weights.\n",
    "        - e.g. SVM, least square errors\n",
    "    * Non-parametic :\n",
    "        - No assumption on the dataset values\n",
    "        - e.g. k-means\n",
    "5. Linear model needs less data to train, easy to fit a line.\n",
    "6. Linear regression has a high bias and low variance.\n",
    "<img src=\"images/linear1.png\" height=\"50%\" width=\"50%\" align=\"center\" />\n",
    "7. Gradient descent is a convex shaped curve, as it is obtained from sum of squares of the errors and hence parabola.\n",
    "8. Gradient Descent:\n",
    "    * Batch-gradient descent : update weights after training on entire dataset.\n",
    "    * Stochastic gradient descent : Update weight after training on single data point.\n",
    "    * Mini-batch gradient Descent : Update weights after training on some number of instances.\n",
    "    <img src=\"images/lr1.png\" height=\"50%\" width=\"50%\" align=\"center\" />\n",
    "10. Problem with Gradient Descent:\n",
    "    * Local Minima, but will not occur with MSE, as the curve would be convex\n",
    "    * Saddle points : Gradient is zero even though point is not a minimum [dataset with high feature sets]\n",
    "    <img src=\"images/gradient1.png\" height=\"50%\" width=\"50%\" align=\"center\" />\n",
    "11. $R^2$ = goodness of fit\n",
    "    * Calculation :\n",
    "    * $R^{2}=\\frac{variance(Y)-variance(model)}{variance(Y)}$\n",
    "9. sklearn functions:\n",
    "    * `from sklearn.linear_model import LinearRegression`\n"
   ]
  },
  {
   "cell_type": "code",
   "execution_count": 8,
   "id": "ac99c154",
   "metadata": {},
   "outputs": [],
   "source": [
    "import pandas as pd\n",
    "\n",
    "from sklearn.linear_model import LinearRegression\n",
    "from sklearn.metrics import r2_score"
   ]
  },
  {
   "cell_type": "code",
   "execution_count": 2,
   "id": "99741230",
   "metadata": {},
   "outputs": [
    {
     "data": {
      "text/html": [
       "<div>\n",
       "<style scoped>\n",
       "    .dataframe tbody tr th:only-of-type {\n",
       "        vertical-align: middle;\n",
       "    }\n",
       "\n",
       "    .dataframe tbody tr th {\n",
       "        vertical-align: top;\n",
       "    }\n",
       "\n",
       "    .dataframe thead th {\n",
       "        text-align: right;\n",
       "    }\n",
       "</style>\n",
       "<table border=\"1\" class=\"dataframe\">\n",
       "  <thead>\n",
       "    <tr style=\"text-align: right;\">\n",
       "      <th></th>\n",
       "      <th>lotSize</th>\n",
       "      <th>workHours</th>\n",
       "    </tr>\n",
       "  </thead>\n",
       "  <tbody>\n",
       "    <tr>\n",
       "      <th>0</th>\n",
       "      <td>80</td>\n",
       "      <td>399</td>\n",
       "    </tr>\n",
       "    <tr>\n",
       "      <th>1</th>\n",
       "      <td>30</td>\n",
       "      <td>121</td>\n",
       "    </tr>\n",
       "    <tr>\n",
       "      <th>2</th>\n",
       "      <td>50</td>\n",
       "      <td>221</td>\n",
       "    </tr>\n",
       "    <tr>\n",
       "      <th>3</th>\n",
       "      <td>90</td>\n",
       "      <td>376</td>\n",
       "    </tr>\n",
       "    <tr>\n",
       "      <th>4</th>\n",
       "      <td>70</td>\n",
       "      <td>361</td>\n",
       "    </tr>\n",
       "  </tbody>\n",
       "</table>\n",
       "</div>"
      ],
      "text/plain": [
       "   lotSize  workHours\n",
       "0       80        399\n",
       "1       30        121\n",
       "2       50        221\n",
       "3       90        376\n",
       "4       70        361"
      ]
     },
     "execution_count": 2,
     "metadata": {},
     "output_type": "execute_result"
    }
   ],
   "source": [
    "df = pd.read_csv('dataset/toluca.csv')\n",
    "df.head()"
   ]
  },
  {
   "cell_type": "code",
   "execution_count": 3,
   "id": "fc469072",
   "metadata": {},
   "outputs": [
    {
     "data": {
      "text/plain": [
       "<AxesSubplot:xlabel='workHours', ylabel='lotSize'>"
      ]
     },
     "execution_count": 3,
     "metadata": {},
     "output_type": "execute_result"
    },
    {
     "data": {
      "image/png": "[encoded data removed]",
      "text/plain": [
       "<Figure size 432x288 with 1 Axes>"
      ]
     },
     "metadata": {
      "needs_background": "light"
     },
     "output_type": "display_data"
    }
   ],
   "source": [
    "df.plot.scatter(x=\"workHours\",y=\"lotSize\")"
   ]
  },
  {
   "cell_type": "code",
   "execution_count": 4,
   "id": "673450de",
   "metadata": {},
   "outputs": [
    {
     "data": {
      "text/html": [
       "<div>\n",
       "<style scoped>\n",
       "    .dataframe tbody tr th:only-of-type {\n",
       "        vertical-align: middle;\n",
       "    }\n",
       "\n",
       "    .dataframe tbody tr th {\n",
       "        vertical-align: top;\n",
       "    }\n",
       "\n",
       "    .dataframe thead th {\n",
       "        text-align: right;\n",
       "    }\n",
       "</style>\n",
       "<table border=\"1\" class=\"dataframe\">\n",
       "  <thead>\n",
       "    <tr style=\"text-align: right;\">\n",
       "      <th></th>\n",
       "      <th>lotSize</th>\n",
       "      <th>workHours</th>\n",
       "    </tr>\n",
       "  </thead>\n",
       "  <tbody>\n",
       "    <tr>\n",
       "      <th>count</th>\n",
       "      <td>25.000000</td>\n",
       "      <td>25.000000</td>\n",
       "    </tr>\n",
       "    <tr>\n",
       "      <th>mean</th>\n",
       "      <td>70.000000</td>\n",
       "      <td>312.280000</td>\n",
       "    </tr>\n",
       "    <tr>\n",
       "      <th>std</th>\n",
       "      <td>28.722813</td>\n",
       "      <td>113.137645</td>\n",
       "    </tr>\n",
       "    <tr>\n",
       "      <th>min</th>\n",
       "      <td>20.000000</td>\n",
       "      <td>113.000000</td>\n",
       "    </tr>\n",
       "    <tr>\n",
       "      <th>25%</th>\n",
       "      <td>50.000000</td>\n",
       "      <td>224.000000</td>\n",
       "    </tr>\n",
       "    <tr>\n",
       "      <th>50%</th>\n",
       "      <td>70.000000</td>\n",
       "      <td>342.000000</td>\n",
       "    </tr>\n",
       "    <tr>\n",
       "      <th>75%</th>\n",
       "      <td>90.000000</td>\n",
       "      <td>389.000000</td>\n",
       "    </tr>\n",
       "    <tr>\n",
       "      <th>max</th>\n",
       "      <td>120.000000</td>\n",
       "      <td>546.000000</td>\n",
       "    </tr>\n",
       "  </tbody>\n",
       "</table>\n",
       "</div>"
      ],
      "text/plain": [
       "          lotSize   workHours\n",
       "count   25.000000   25.000000\n",
       "mean    70.000000  312.280000\n",
       "std     28.722813  113.137645\n",
       "min     20.000000  113.000000\n",
       "25%     50.000000  224.000000\n",
       "50%     70.000000  342.000000\n",
       "75%     90.000000  389.000000\n",
       "max    120.000000  546.000000"
      ]
     },
     "execution_count": 4,
     "metadata": {},
     "output_type": "execute_result"
    }
   ],
   "source": [
    "df.describe()"
   ]
  },
  {
   "cell_type": "code",
   "execution_count": 5,
   "id": "1353186a",
   "metadata": {},
   "outputs": [
    {
     "data": {
      "text/plain": [
       "lotSize        825.000000\n",
       "workHours    12800.126667\n",
       "dtype: float64"
      ]
     },
     "execution_count": 5,
     "metadata": {},
     "output_type": "execute_result"
    }
   ],
   "source": [
    "# Variance of data\n",
    "df.var()"
   ]
  },
  {
   "cell_type": "markdown",
   "id": "8748aa36",
   "metadata": {},
   "source": [
    "df.iloc[:,1] : Creates Series and for the model to fit it requires a martix, doig df.iloc[:,1:] returns a matrix"
   ]
  },
  {
   "cell_type": "code",
   "execution_count": 14,
   "id": "73d29e55",
   "metadata": {},
   "outputs": [
    {
     "data": {
      "text/plain": [
       "LinearRegression()"
      ]
     },
     "execution_count": 14,
     "metadata": {},
     "output_type": "execute_result"
    }
   ],
   "source": [
    "reg = LinearRegression()\n",
    "reg.fit(df.iloc[:,1:],df.iloc[:,0])"
   ]
  },
  {
   "cell_type": "code",
   "execution_count": 15,
   "id": "34cdb01c",
   "metadata": {},
   "outputs": [
    {
     "data": {
      "text/plain": [
       "0.8215334744346305"
      ]
     },
     "execution_count": 15,
     "metadata": {},
     "output_type": "execute_result"
    }
   ],
   "source": [
    "r2_score(df.lotSize,reg.predict(df.iloc[:,1:]))"
   ]
  },
  {
   "cell_type": "code",
   "execution_count": 10,
   "id": "4ef1620e",
   "metadata": {},
   "outputs": [
    {
     "data": {
      "text/plain": [
       "0.8215334744346305"
      ]
     },
     "execution_count": 10,
     "metadata": {},
     "output_type": "execute_result"
    }
   ],
   "source": [
    "reg.score(df.iloc[:,1:],df.lotSize)"
   ]
  },
  {
   "cell_type": "code",
   "execution_count": 12,
   "id": "a8ff770c",
   "metadata": {},
   "outputs": [
    {
     "data": {
      "text/html": [
       "<div>\n",
       "<style scoped>\n",
       "    .dataframe tbody tr th:only-of-type {\n",
       "        vertical-align: middle;\n",
       "    }\n",
       "\n",
       "    .dataframe tbody tr th {\n",
       "        vertical-align: top;\n",
       "    }\n",
       "\n",
       "    .dataframe thead th {\n",
       "        text-align: right;\n",
       "    }\n",
       "</style>\n",
       "<table border=\"1\" class=\"dataframe\">\n",
       "  <thead>\n",
       "    <tr style=\"text-align: right;\">\n",
       "      <th></th>\n",
       "      <th>lotSize</th>\n",
       "      <th>workHours</th>\n",
       "    </tr>\n",
       "  </thead>\n",
       "  <tbody>\n",
       "    <tr>\n",
       "      <th>0</th>\n",
       "      <td>80</td>\n",
       "      <td>399</td>\n",
       "    </tr>\n",
       "    <tr>\n",
       "      <th>1</th>\n",
       "      <td>30</td>\n",
       "      <td>121</td>\n",
       "    </tr>\n",
       "    <tr>\n",
       "      <th>2</th>\n",
       "      <td>50</td>\n",
       "      <td>221</td>\n",
       "    </tr>\n",
       "    <tr>\n",
       "      <th>3</th>\n",
       "      <td>90</td>\n",
       "      <td>376</td>\n",
       "    </tr>\n",
       "    <tr>\n",
       "      <th>4</th>\n",
       "      <td>70</td>\n",
       "      <td>361</td>\n",
       "    </tr>\n",
       "    <tr>\n",
       "      <th>5</th>\n",
       "      <td>60</td>\n",
       "      <td>224</td>\n",
       "    </tr>\n",
       "    <tr>\n",
       "      <th>6</th>\n",
       "      <td>120</td>\n",
       "      <td>546</td>\n",
       "    </tr>\n",
       "    <tr>\n",
       "      <th>7</th>\n",
       "      <td>80</td>\n",
       "      <td>352</td>\n",
       "    </tr>\n",
       "    <tr>\n",
       "      <th>8</th>\n",
       "      <td>100</td>\n",
       "      <td>353</td>\n",
       "    </tr>\n",
       "    <tr>\n",
       "      <th>9</th>\n",
       "      <td>50</td>\n",
       "      <td>157</td>\n",
       "    </tr>\n",
       "    <tr>\n",
       "      <th>10</th>\n",
       "      <td>40</td>\n",
       "      <td>160</td>\n",
       "    </tr>\n",
       "    <tr>\n",
       "      <th>11</th>\n",
       "      <td>70</td>\n",
       "      <td>252</td>\n",
       "    </tr>\n",
       "    <tr>\n",
       "      <th>12</th>\n",
       "      <td>90</td>\n",
       "      <td>389</td>\n",
       "    </tr>\n",
       "    <tr>\n",
       "      <th>13</th>\n",
       "      <td>20</td>\n",
       "      <td>113</td>\n",
       "    </tr>\n",
       "    <tr>\n",
       "      <th>14</th>\n",
       "      <td>110</td>\n",
       "      <td>435</td>\n",
       "    </tr>\n",
       "    <tr>\n",
       "      <th>15</th>\n",
       "      <td>100</td>\n",
       "      <td>420</td>\n",
       "    </tr>\n",
       "    <tr>\n",
       "      <th>16</th>\n",
       "      <td>30</td>\n",
       "      <td>212</td>\n",
       "    </tr>\n",
       "    <tr>\n",
       "      <th>17</th>\n",
       "      <td>50</td>\n",
       "      <td>268</td>\n",
       "    </tr>\n",
       "    <tr>\n",
       "      <th>18</th>\n",
       "      <td>90</td>\n",
       "      <td>377</td>\n",
       "    </tr>\n",
       "    <tr>\n",
       "      <th>19</th>\n",
       "      <td>110</td>\n",
       "      <td>421</td>\n",
       "    </tr>\n",
       "    <tr>\n",
       "      <th>20</th>\n",
       "      <td>30</td>\n",
       "      <td>273</td>\n",
       "    </tr>\n",
       "    <tr>\n",
       "      <th>21</th>\n",
       "      <td>90</td>\n",
       "      <td>468</td>\n",
       "    </tr>\n",
       "    <tr>\n",
       "      <th>22</th>\n",
       "      <td>40</td>\n",
       "      <td>244</td>\n",
       "    </tr>\n",
       "    <tr>\n",
       "      <th>23</th>\n",
       "      <td>80</td>\n",
       "      <td>342</td>\n",
       "    </tr>\n",
       "    <tr>\n",
       "      <th>24</th>\n",
       "      <td>70</td>\n",
       "      <td>323</td>\n",
       "    </tr>\n",
       "  </tbody>\n",
       "</table>\n",
       "</div>"
      ],
      "text/plain": [
       "    lotSize  workHours\n",
       "0        80        399\n",
       "1        30        121\n",
       "2        50        221\n",
       "3        90        376\n",
       "4        70        361\n",
       "5        60        224\n",
       "6       120        546\n",
       "7        80        352\n",
       "8       100        353\n",
       "9        50        157\n",
       "10       40        160\n",
       "11       70        252\n",
       "12       90        389\n",
       "13       20        113\n",
       "14      110        435\n",
       "15      100        420\n",
       "16       30        212\n",
       "17       50        268\n",
       "18       90        377\n",
       "19      110        421\n",
       "20       30        273\n",
       "21       90        468\n",
       "22       40        244\n",
       "23       80        342\n",
       "24       70        323"
      ]
     },
     "execution_count": 12,
     "metadata": {},
     "output_type": "execute_result"
    }
   ],
   "source": [
    "df.iloc[:,0:]"
   ]
  },
  {
   "cell_type": "code",
   "execution_count": null,
   "id": "40533ebc",
   "metadata": {},
   "outputs": [],
   "source": []
  }
 ],
 "metadata": {
  "kernelspec": {
   "display_name": "Python 3 (ipykernel)",
   "language": "python",
   "name": "python3"
  },
  "language_info": {
   "codemirror_mode": {
    "name": "ipython",
    "version": 3
   },
   "file_extension": ".py",
   "mimetype": "text/x-python",
   "name": "python",
   "nbconvert_exporter": "python",
   "pygments_lexer": "ipython3",
   "version": "3.8.12"
  }
 },
 "nbformat": 4,
 "nbformat_minor": 5
}
