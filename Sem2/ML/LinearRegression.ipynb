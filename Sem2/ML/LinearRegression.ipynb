{
 "cells": [
  {
   "cell_type": "markdown",
   "id": "42cd34e3",
   "metadata": {},
   "source": [
    "## Linear Regression\n",
    "1. Assumptions:\n",
    "    * **Linearity**: The relationship between X and the mean of Y is linear.\n",
    "    * **Homoscedasticity**: The variance of residual is the same for any value of X.\n",
    "    * **Independence**: Observations are independent of each other.\n",
    "    * **Normality**: For any fixed value of X, Y is normally distributed.\n",
    "2. Model : Algorithm + data + Hyperparameter forms a model.\n",
    "3. Testing and Training : <....>\n",
    "4. Regression Types :\n",
    "    * Parametric\n",
    "        - Assumption y = f(x)\n",
    "        - Function applies to all values of x\n",
    "        - Learning means deciding on the function / parameters / weights.\n",
    "        - e.g. SVM, least square errors\n",
    "    * Non-parametic :\n",
    "        - No assumption on the dataset values\n",
    "        - e.g. k-means\n",
    "5. Linear model needs less data to train, easy to fit a line.\n",
    "6. Linear regression has a high bias and low variance.\n",
    "<img src=\"images/linear1.png\" height=\"50%\" width=\"50%\" align=\"center\" />\n",
    "7. Gradient descent is a convex shaped curve, as it is obtained from sum of squares of the errors and hence parabola.\n",
    "8. Gradient Descent:\n",
    "    * Batch-gradient descent : update weights after training on entire dataset.\n",
    "    * Stochastic gradient descent : Update weight after training on single data point.\n",
    "    * Mini-batch gradient Descent : Update weights after training on some number of instances."
   ]
  },
  {
   "cell_type": "code",
   "execution_count": null,
   "id": "ac99c154",
   "metadata": {},
   "outputs": [],
   "source": []
  }
 ],
 "metadata": {
  "kernelspec": {
   "display_name": "Python 3 (ipykernel)",
   "language": "python",
   "name": "python3"
  },
  "language_info": {
   "codemirror_mode": {
    "name": "ipython",
    "version": 3
   },
   "file_extension": ".py",
   "mimetype": "text/x-python",
   "name": "python",
   "nbconvert_exporter": "python",
   "pygments_lexer": "ipython3",
   "version": "3.8.12"
  }
 },
 "nbformat": 4,
 "nbformat_minor": 5
}
