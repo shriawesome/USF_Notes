{
 "cells": [
  {
   "cell_type": "markdown",
   "id": "97805605",
   "metadata": {},
   "source": [
    "## PCA\n",
    "\n",
    "1. Reduce the size of the model.\n",
    "2. Ensure features are independent of each other\n",
    "    - PCA ensures all features are uncorrelated\n",
    "    - PCA uses a linear combination of inputs as \"new\" features\n",
    "3. Disadvantage : lose model interpretability.\n",
    "4. How : By performing Eigen decomposition\n",
    "5. Why ? \n",
    "    - PCA captures most of the variance in the data\n",
    "    - Linear Transformation of linear independent variables.\n",
    "6. Working with random data :\n",
    "    - Cities and Avg Temp for months\n",
    "    - Take one feature and plot for all the cities say (Avg High Temp Jan)\n",
    "    <img src=\"images/pca1.png\" height=\"50%\" width=\"50%\" align=\"center\" />\n",
    "    - Adding another dimension to the data\n",
    "    <img src=\"images/pca2.png\" height=\"75%\" width=\"75%\" align=\"center\" />\n",
    "    - Performs standardization and after shifting origin/ construction covariance\n",
    "        * Closer distance from the origin\n",
    "        * Other point would be **orthogonal** to the first line and distance would be from the origin\n",
    "        <img src=\"images/pca3.png\" height=\"50%\" width=\"50%\" align=\"center\" />\n",
    "        * First feature would be red line and other would be blue line.\n",
    "7. Principal component means identifying the **axis of major variation**.\n",
    "8. Number of principal components to use :\n",
    "    1. Arbitary:\n",
    "        * Any number which satisfies requirements is fine. e.g. Say 2 for plotting data on page.\n",
    "    2. Proportion of variance explained:\n",
    "        * Decide on amount of variance required to be explained by model.\n",
    "    3. Elbow method\n",
    "        * Graph \"variance explained\" method above\n",
    "        * Look for an elbow in the graph\n",
    "9. `from sklearn.decomposition import PCA`\n",
    "10. Number of components would be equal to the minimum of rows x cols value."
   ]
  },
  {
   "cell_type": "markdown",
   "id": "42550a7b",
   "metadata": {},
   "source": [
    "## PCA on wikitemp dataset"
   ]
  },
  {
   "cell_type": "code",
   "execution_count": 7,
   "id": "4c3cd1aa",
   "metadata": {},
   "outputs": [],
   "source": [
    "import pandas as pd\n",
    "\n",
    "from sklearn.decomposition import PCA\n",
    "\n",
    "import matplotlib.pyplot as plt\n",
    "import seaborn as sns"
   ]
  },
  {
   "cell_type": "code",
   "execution_count": 4,
   "id": "ef7cbc70",
   "metadata": {},
   "outputs": [
    {
     "data": {
      "text/html": [
       "<div>\n",
       "<style scoped>\n",
       "    .dataframe tbody tr th:only-of-type {\n",
       "        vertical-align: middle;\n",
       "    }\n",
       "\n",
       "    .dataframe tbody tr th {\n",
       "        vertical-align: top;\n",
       "    }\n",
       "\n",
       "    .dataframe thead th {\n",
       "        text-align: right;\n",
       "    }\n",
       "</style>\n",
       "<table border=\"1\" class=\"dataframe\">\n",
       "  <thead>\n",
       "    <tr style=\"text-align: right;\">\n",
       "      <th></th>\n",
       "      <th>City</th>\n",
       "      <th>Mean High Jan</th>\n",
       "      <th>Mean High Feb</th>\n",
       "      <th>Mean High Mar</th>\n",
       "      <th>Mean High Apr</th>\n",
       "      <th>Mean High May</th>\n",
       "      <th>Mean High Jun</th>\n",
       "      <th>Mean High Jul</th>\n",
       "      <th>Mean High Aug</th>\n",
       "      <th>Mean High Sep</th>\n",
       "      <th>...</th>\n",
       "      <th>Mean Low Mar</th>\n",
       "      <th>Mean Low Apr</th>\n",
       "      <th>Mean Low May</th>\n",
       "      <th>Mean Low Jun</th>\n",
       "      <th>Mean Low Jul</th>\n",
       "      <th>Mean Low Aug</th>\n",
       "      <th>Mean Low Sep</th>\n",
       "      <th>Mean Low Oct</th>\n",
       "      <th>Mean Low Nov</th>\n",
       "      <th>Mean Low Dec</th>\n",
       "    </tr>\n",
       "  </thead>\n",
       "  <tbody>\n",
       "    <tr>\n",
       "      <th>0</th>\n",
       "      <td>San Francisco</td>\n",
       "      <td>19.6</td>\n",
       "      <td>22.5</td>\n",
       "      <td>24.3</td>\n",
       "      <td>27.9</td>\n",
       "      <td>28.2</td>\n",
       "      <td>30.0</td>\n",
       "      <td>28.4</td>\n",
       "      <td>29.7</td>\n",
       "      <td>32.0</td>\n",
       "      <td>...</td>\n",
       "      <td>6.4</td>\n",
       "      <td>7.3</td>\n",
       "      <td>8.7</td>\n",
       "      <td>10.1</td>\n",
       "      <td>10.8</td>\n",
       "      <td>11.4</td>\n",
       "      <td>11.1</td>\n",
       "      <td>9.8</td>\n",
       "      <td>6.8</td>\n",
       "      <td>4.5</td>\n",
       "    </tr>\n",
       "    <tr>\n",
       "      <th>1</th>\n",
       "      <td>Sacramento</td>\n",
       "      <td>17.8</td>\n",
       "      <td>21.4</td>\n",
       "      <td>24.9</td>\n",
       "      <td>30.7</td>\n",
       "      <td>35.4</td>\n",
       "      <td>39.1</td>\n",
       "      <td>40.6</td>\n",
       "      <td>39.8</td>\n",
       "      <td>37.8</td>\n",
       "      <td>...</td>\n",
       "      <td>1.7</td>\n",
       "      <td>3.3</td>\n",
       "      <td>6.1</td>\n",
       "      <td>9.3</td>\n",
       "      <td>11.7</td>\n",
       "      <td>11.7</td>\n",
       "      <td>9.6</td>\n",
       "      <td>5.4</td>\n",
       "      <td>0.3</td>\n",
       "      <td>-1.9</td>\n",
       "    </tr>\n",
       "    <tr>\n",
       "      <th>2</th>\n",
       "      <td>Manchester</td>\n",
       "      <td>7.3</td>\n",
       "      <td>7.6</td>\n",
       "      <td>10.0</td>\n",
       "      <td>12.6</td>\n",
       "      <td>16.1</td>\n",
       "      <td>18.6</td>\n",
       "      <td>20.6</td>\n",
       "      <td>20.3</td>\n",
       "      <td>17.6</td>\n",
       "      <td>...</td>\n",
       "      <td>3.3</td>\n",
       "      <td>4.9</td>\n",
       "      <td>7.7</td>\n",
       "      <td>10.5</td>\n",
       "      <td>12.6</td>\n",
       "      <td>12.4</td>\n",
       "      <td>10.3</td>\n",
       "      <td>7.4</td>\n",
       "      <td>4.2</td>\n",
       "      <td>1.8</td>\n",
       "    </tr>\n",
       "    <tr>\n",
       "      <th>3</th>\n",
       "      <td>Paris</td>\n",
       "      <td>7.2</td>\n",
       "      <td>8.3</td>\n",
       "      <td>12.2</td>\n",
       "      <td>15.6</td>\n",
       "      <td>19.6</td>\n",
       "      <td>22.7</td>\n",
       "      <td>25.2</td>\n",
       "      <td>25.0</td>\n",
       "      <td>21.1</td>\n",
       "      <td>...</td>\n",
       "      <td>5.3</td>\n",
       "      <td>7.3</td>\n",
       "      <td>10.9</td>\n",
       "      <td>13.8</td>\n",
       "      <td>15.8</td>\n",
       "      <td>15.7</td>\n",
       "      <td>12.7</td>\n",
       "      <td>9.6</td>\n",
       "      <td>5.8</td>\n",
       "      <td>3.4</td>\n",
       "    </tr>\n",
       "    <tr>\n",
       "      <th>4</th>\n",
       "      <td>Port-of-Spain</td>\n",
       "      <td>28.0</td>\n",
       "      <td>28.9</td>\n",
       "      <td>30.3</td>\n",
       "      <td>31.0</td>\n",
       "      <td>33.1</td>\n",
       "      <td>31.5</td>\n",
       "      <td>31.3</td>\n",
       "      <td>31.7</td>\n",
       "      <td>32.2</td>\n",
       "      <td>...</td>\n",
       "      <td>20.7</td>\n",
       "      <td>22.0</td>\n",
       "      <td>23.0</td>\n",
       "      <td>23.3</td>\n",
       "      <td>23.0</td>\n",
       "      <td>23.0</td>\n",
       "      <td>23.1</td>\n",
       "      <td>22.6</td>\n",
       "      <td>22.3</td>\n",
       "      <td>21.0</td>\n",
       "    </tr>\n",
       "  </tbody>\n",
       "</table>\n",
       "<p>5 rows × 25 columns</p>\n",
       "</div>"
      ],
      "text/plain": [
       "            City  Mean High Jan  Mean High Feb  Mean High Mar  Mean High Apr  \\\n",
       "0  San Francisco           19.6           22.5           24.3           27.9   \n",
       "1     Sacramento           17.8           21.4           24.9           30.7   \n",
       "2     Manchester            7.3            7.6           10.0           12.6   \n",
       "3          Paris            7.2            8.3           12.2           15.6   \n",
       "4  Port-of-Spain           28.0           28.9           30.3           31.0   \n",
       "\n",
       "   Mean High May  Mean High Jun  Mean High Jul  Mean High Aug  Mean High Sep  \\\n",
       "0           28.2           30.0           28.4           29.7           32.0   \n",
       "1           35.4           39.1           40.6           39.8           37.8   \n",
       "2           16.1           18.6           20.6           20.3           17.6   \n",
       "3           19.6           22.7           25.2           25.0           21.1   \n",
       "4           33.1           31.5           31.3           31.7           32.2   \n",
       "\n",
       "   ...  Mean Low Mar  Mean Low Apr  Mean Low May  Mean Low Jun  Mean Low Jul  \\\n",
       "0  ...           6.4           7.3           8.7          10.1          10.8   \n",
       "1  ...           1.7           3.3           6.1           9.3          11.7   \n",
       "2  ...           3.3           4.9           7.7          10.5          12.6   \n",
       "3  ...           5.3           7.3          10.9          13.8          15.8   \n",
       "4  ...          20.7          22.0          23.0          23.3          23.0   \n",
       "\n",
       "   Mean Low Aug  Mean Low Sep  Mean Low Oct  Mean Low Nov  Mean Low Dec  \n",
       "0          11.4          11.1           9.8           6.8           4.5  \n",
       "1          11.7           9.6           5.4           0.3          -1.9  \n",
       "2          12.4          10.3           7.4           4.2           1.8  \n",
       "3          15.7          12.7           9.6           5.8           3.4  \n",
       "4          23.0          23.1          22.6          22.3          21.0  \n",
       "\n",
       "[5 rows x 25 columns]"
      ]
     },
     "execution_count": 4,
     "metadata": {},
     "output_type": "execute_result"
    }
   ],
   "source": [
    "df = pd.read_csv('dataset/wikitemps.csv')\n",
    "df.drop(['Average'],axis=1,inplace=True)\n",
    "df.head()"
   ]
  },
  {
   "cell_type": "code",
   "execution_count": 5,
   "id": "8f8167d7",
   "metadata": {},
   "outputs": [
    {
     "data": {
      "text/plain": [
       "(10, 2)"
      ]
     },
     "execution_count": 5,
     "metadata": {},
     "output_type": "execute_result"
    }
   ],
   "source": [
    "model = PCA(n_components=2)\n",
    "model.fit(df.iloc[:,1:])\n",
    "data2D = model.transform(df.iloc[:,1:])\n",
    "data2D.shape"
   ]
  },
  {
   "cell_type": "code",
   "execution_count": 10,
   "id": "10655754",
   "metadata": {},
   "outputs": [
    {
     "data": {
      "text/plain": [
       "array([0.61311446, 0.21703231])"
      ]
     },
     "execution_count": 10,
     "metadata": {},
     "output_type": "execute_result"
    }
   ],
   "source": [
    "# Variance explained\n",
    "model.explained_variance_ratio_"
   ]
  },
  {
   "cell_type": "code",
   "execution_count": 9,
   "id": "725abc31",
   "metadata": {
    "scrolled": false
   },
   "outputs": [
    {
     "name": "stderr",
     "output_type": "stream",
     "text": [
      "/Users/shrikantkendre/miniforge3/envs/tf2M1/lib/python3.8/site-packages/seaborn/_decorators.py:36: FutureWarning: Pass the following variables as keyword args: x, y. From version 0.12, the only valid positional argument will be `data`, and passing other arguments without an explicit keyword will result in an error or misinterpretation.\n",
      "  warnings.warn(\n"
     ]
    },
    {
     "data": {
      "image/png": "[encoded data removed]",
      "text/plain": [
       "<Figure size 464.625x360 with 1 Axes>"
      ]
     },
     "metadata": {
      "needs_background": "light"
     },
     "output_type": "display_data"
    }
   ],
   "source": [
    "df['PCA1']=data2D[:,0]\n",
    "df['PCA2']=data2D[:,1]\n",
    "sns.lmplot('PCA1','PCA2',hue='City',data=df,fit_reg=False)\n",
    "plt.show()"
   ]
  },
  {
   "cell_type": "code",
   "execution_count": null,
   "id": "88a9743c",
   "metadata": {},
   "outputs": [],
   "source": []
  }
 ],
 "metadata": {
  "kernelspec": {
   "display_name": "Python 3 (ipykernel)",
   "language": "python",
   "name": "python3"
  },
  "language_info": {
   "codemirror_mode": {
    "name": "ipython",
    "version": 3
   },
   "file_extension": ".py",
   "mimetype": "text/x-python",
   "name": "python",
   "nbconvert_exporter": "python",
   "pygments_lexer": "ipython3",
   "version": "3.8.12"
  }
 },
 "nbformat": 4,
 "nbformat_minor": 5
}
