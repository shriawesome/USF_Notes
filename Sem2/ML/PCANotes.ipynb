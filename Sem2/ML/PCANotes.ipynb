{
 "cells": [
  {
   "cell_type": "markdown",
   "id": "97805605",
   "metadata": {},
   "source": [
    "## PCA\n",
    "\n",
    "1. Reduce the size of the model.\n",
    "2. Ensure features are independent of each other\n",
    "    - PCA ensures all features are uncorrelated\n",
    "    - PCA uses a linear combination of inputs as \"new\" features\n",
    "3. Disadvantage : lose model interpretability.\n",
    "4. How : By performing Eigen decomposition\n",
    "5. Why ? \n",
    "    - PCA captures most of the variance in the data\n",
    "    - Linear Transformation of linear independent variables.\n",
    "6. Working with random data :\n",
    "    - Cities and Avg Temp for months\n",
    "    - Take one feature and plot for all the cities say (Avg High Temp Jan)\n",
    "    <img src=\"images/pca1.png\" height=\"50%\" width=\"50%\" align=\"center\" />\n",
    "    - Adding another dimension to the data\n",
    "    <img src=\"images/pca2.png\" height=\"75%\" width=\"75%\" align=\"center\" />\n",
    "    - Performs standardization and after shifting origin/ construction covariance\n",
    "        * Closer distance from the origin\n",
    "        * Other point would be orthogonal to the first line and distance would be from the origin\n",
    "        <img src=\"images/pca3.png\" height=\"50%\" width=\"50%\" align=\"center\" />\n",
    "        * First feature would be red line and other would be blue line."
   ]
  },
  {
   "cell_type": "code",
   "execution_count": null,
   "id": "4c3cd1aa",
   "metadata": {},
   "outputs": [],
   "source": []
  }
 ],
 "metadata": {
  "kernelspec": {
   "display_name": "Python 3 (ipykernel)",
   "language": "python",
   "name": "python3"
  },
  "language_info": {
   "codemirror_mode": {
    "name": "ipython",
    "version": 3
   },
   "file_extension": ".py",
   "mimetype": "text/x-python",
   "name": "python",
   "nbconvert_exporter": "python",
   "pygments_lexer": "ipython3",
   "version": "3.8.12"
  }
 },
 "nbformat": 4,
 "nbformat_minor": 5
}
