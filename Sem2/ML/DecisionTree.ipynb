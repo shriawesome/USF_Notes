{
 "cells": [
  {
   "cell_type": "markdown",
   "id": "3c9c64e9",
   "metadata": {},
   "source": [
    "# Decision Trees\n",
    "1. Classifier and Regression Trees(CART) and Discriminative model along with greedy approach.\n",
    "2. Segments the predictor space into smaller regions.\n",
    "    * Consider the following dataset, goal is to predict the salary of the player.\n",
    "    * <img src=\"images/dt1.png\" width=\"50%\" height=\"50%\" />\n",
    "    * <img src=\"images/dt2.png\" width=\"25%\" height=\"25%\" />\n",
    "3. Advantages:\n",
    "    * Trees can handle qualitative predictors gracefully\n",
    "    * Good to use when the data is **\"boxy\"/\"regional\"** relationships.\n",
    "    *  Linear Model vs DTs :,<img src=\"images/dt3.png\" width=\"25%\" height=\"25%\" />\n",
    "4. Algorithms(refer notes)\n",
    "5. Quantifying Impurity :\n",
    "    * Classification Error ($E = 1 - max_k(p_{mk})$)\n",
    "    * Entropy ($D = -\\sum{p_{mk}\\log(p_{mk})}$)\n",
    "    * Gini ($G = 1 - \\sum(p_{mk})$)\n",
    "6. Problem :\n",
    "    * Pblm 1 :\n",
    "        * <img src=\"images/dt4.png\" width=\"50%\" height=\"50%\">\n",
    "        * After dividing the data we can see that \"invert\" would never be predicted as in classification majority class is predicted.\n",
    "        * Soln : Get more data.\n",
    "    * Pblm 2:\n",
    "        * When we have regions with just 1 values.\n",
    "        * Prunning the tree"
   ]
  },
  {
   "cell_type": "code",
   "execution_count": null,
   "id": "34b5d1a5",
   "metadata": {},
   "outputs": [],
   "source": []
  }
 ],
 "metadata": {
  "kernelspec": {
   "display_name": "Python 3 (ipykernel)",
   "language": "python",
   "name": "python3"
  },
  "language_info": {
   "codemirror_mode": {
    "name": "ipython",
    "version": 3
   },
   "file_extension": ".py",
   "mimetype": "text/x-python",
   "name": "python",
   "nbconvert_exporter": "python",
   "pygments_lexer": "ipython3",
   "version": "3.8.12"
  }
 },
 "nbformat": 4,
 "nbformat_minor": 5
}
