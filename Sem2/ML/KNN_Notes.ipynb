{
 "cells": [
  {
   "cell_type": "markdown",
   "id": "f14ead5d",
   "metadata": {},
   "source": [
    "# K-Nearest Neighbours\n",
    "1. Can be used for both classification as well as regression task.\n",
    "2. <img src='images/knn1.png' width=\"25%\" height=\"25%\"/>\n",
    "3. Advantages :\n",
    "    * Insensitive to outliers\n",
    "    * Easy to interpret the outcome\n",
    "    * Non-parametric (makes no assumption of decision boundary)\n",
    "4. Dis:\n",
    "    * Instance-based lazy algorithm.\n",
    "    * \n",
    "5. Algorithm:\n",
    "    * Inputs : \n",
    "        * Training data along with targets.\n",
    "        * value of 'k'\n",
    "        * Testing feature vectors\n",
    "    * Fit fn is NOOP(No Operation)\n",
    "    * <img src='images/knnalgo.png' width=\"75%\" height=\"75%\"/>\n",
    "6. Popular Distances:\n",
    "    * Euclidean, Manhattan(useful for high-dimensional dataset), Hamming distance, cosine, mahalanois, minkowski.\n",
    "7. Choosing the value of 'k':\n",
    "    * Perform cross-validation against dev set to find an \"elbow\".\n",
    "    * Odd numbers especially when classes = 2.\n",
    "    * Start with sqrt(n).\n",
    "8. Why Choose KNN:\n",
    "    * Often used to benchmark data.\n",
    "    * Can be used to detect outliers or anomalies.\n",
    "        * Average distance to k-nearest neighbours is a **local density estimate**\n",
    "        * Specifically: what is the volume of the hypercube required to capture k-nearest?\n",
    "        * Relatively low local density implies data is likely an outlier / anomaly\n",
    "9. ROC-AUC:\n",
    "    * <img src='images/rocauc.png' width=\"75%\" height=\"75%\"/>"
   ]
  },
  {
   "cell_type": "code",
   "execution_count": null,
   "id": "ccf12e46",
   "metadata": {},
   "outputs": [],
   "source": []
  }
 ],
 "metadata": {
  "kernelspec": {
   "display_name": "Python 3 (ipykernel)",
   "language": "python",
   "name": "python3"
  },
  "language_info": {
   "codemirror_mode": {
    "name": "ipython",
    "version": 3
   },
   "file_extension": ".py",
   "mimetype": "text/x-python",
   "name": "python",
   "nbconvert_exporter": "python",
   "pygments_lexer": "ipython3",
   "version": "3.8.12"
  }
 },
 "nbformat": 4,
 "nbformat_minor": 5
}
