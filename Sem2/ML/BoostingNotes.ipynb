{
 "cells": [
  {
   "cell_type": "markdown",
   "id": "d09bb01f",
   "metadata": {},
   "source": [
    "# Boosting\n",
    "1. Overall\n",
    "    * Confederates (weak) learners into a strong[-er] learner\n",
    "    * Sequentially adds learners\n",
    "    * Learns from mistakes: focuses on (and imporves) errors\n",
    "    * Three popular variants : AdaBoost, GradientBoosting, XGBoost\n",
    "    * Disadv : Sensitive to outliers and is slow\n",
    "2. Diff (RF vs Boosting):\n",
    "    * No communication between the trees in the forest | Trees are added sequentially and learns from mistakes.\n",
    "3. **AdaBoost:**\n",
    "    * Randomly generate a bag of data(Bootstrapping)\n",
    "    * Fit a learner to each bag (creates a stump(depth=1 tree))\n",
    "    * create another bag of data focussing on the error that we made.\n",
    "        * Adds an additional weight on the errors made on the prev incorrect datapoints.\n",
    "        * At later point when the datapoint if correctly classified, then the weight decreases.\n",
    "    * Fitting Process, <img src=\"images/adaboost1.png\" />\n",
    "    * Finally the decision boundary would look like, <img src=\"images/adaboost2.png\" width=\"25%\" height=\"25%\" />\n",
    "    * Different stumps have different weightage, to calculate a tree's weight according to its train performance $weight=\\frac{\\frac{1}{2}log(1-totError)}{totError}$\n",
    "    * A simple weight update : `weight = weight * exp(+/-1*learning_rate)`.\n",
    "    * Algo(AdaBoost fit) :\n",
    "         - def fit(X, Y, num_trees):\n",
    "             - self.tree_list = create_list(num_trees)  # decision_trees\n",
    "             - errors = []\n",
    "             - for t in self.tree_list:\n",
    "                 - Bagging, higher probability to selecting from errors\n",
    "                 - sample_x, sample_y = sample(X, Y, errors)\n",
    "                 - t.fit(sample_x, sample_y, self.max_depth)\n",
    "    * AdaBoost predict:\n",
    "        * <img src=\"images/adaboostpredict.png\" align=\"center\" width=\"50%\" height=\"50%\" />\n",
    "        \n",
    "4. **Gradient Boosting:**\n",
    "    * Existing learners \"frozen\"\n",
    "    * New learner added to existing sequence of learners\n",
    "    * Outside-in Approach:\n",
    "        * e.g. How likely do you think it is the couple will be divorced in 10 years?\n",
    "            * How many american marriages end in divorce?\n",
    "            * How many in Rhode Island?\n",
    "            * How many catholic marriages end in divorce? etc....\n",
    "    * Algo:\n",
    "        * Generate an initial hypothesis\n",
    "        * Repeat:\n",
    "            * Calculate residuals (errors) for each training instance\n",
    "            * Fit CART to residuals\n",
    "            * Generate new hypothesis = initial hypothesis * CART residual * learning rate\n",
    "            * CART is usually a tree of depth in range (3 - 5)\n",
    "    * Steps:\n",
    "        * <img src=\"images/gboost1.png\" align=\"center\" width=\"50%\" height=\"50%\" />\n",
    "        * <img src=\"images/gboost2.png\" align=\"center\" width=\"50%\" height=\"50%\" />\n",
    "        * Updating the weights to get the height based on mean from the leaf nodes, <img src=\"images/gboost3.png\" align=\"center\" width=\"50%\" height=\"50%\" />"
   ]
  },
  {
   "cell_type": "code",
   "execution_count": null,
   "id": "9231643c",
   "metadata": {},
   "outputs": [],
   "source": []
  }
 ],
 "metadata": {
  "kernelspec": {
   "display_name": "Python 3 (ipykernel)",
   "language": "python",
   "name": "python3"
  },
  "language_info": {
   "codemirror_mode": {
    "name": "ipython",
    "version": 3
   },
   "file_extension": ".py",
   "mimetype": "text/x-python",
   "name": "python",
   "nbconvert_exporter": "python",
   "pygments_lexer": "ipython3",
   "version": "3.8.12"
  }
 },
 "nbformat": 4,
 "nbformat_minor": 5
}
